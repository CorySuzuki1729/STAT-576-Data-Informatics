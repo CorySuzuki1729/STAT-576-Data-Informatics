{
 "cells": [
  {
   "cell_type": "code",
   "execution_count": 2,
   "id": "68472cdd-1863-4486-8dd4-fa3f7f4a7136",
   "metadata": {},
   "outputs": [
    {
     "name": "stdout",
     "output_type": "stream",
     "text": [
      "[[4 5 5 ... 0 0 4]\n",
      " [5 1 0 ... 0 0 5]\n",
      " [3 2 5 ... 3 4 3]\n",
      " ...\n",
      " [4 3 5 ... 2 2 3]\n",
      " [2 3 3 ... 0 3 2]\n",
      " [3 2 4 ... 0 2 5]]\n"
     ]
    }
   ],
   "source": [
    "import numpy as np\n",
    "import pandas as pd\n",
    "from sklearn.metrics import mean_squared_error\n",
    "\n",
    "df = pd.read_excel('Food_2024_Fall.xlsx')\n",
    "# Remove the 'Item' column to keep only the ratings\n",
    "ratings_matrix = df.drop(columns=['Item']).values\n",
    "ratings_matrix = ratings_matrix.T\n",
    "print(ratings_matrix)"
   ]
  },
  {
   "cell_type": "code",
   "execution_count": 4,
   "id": "fac163b0",
   "metadata": {},
   "outputs": [],
   "source": [
    "# Simulating a new user who rated more items out of 30\n",
    "new_user_ratings = np.array([\n",
    "    4, 3, np.nan, 5, 3, 4, 2, 3, np.nan, 5,  # First 10 items\n",
    "    4, 5, np.nan, 1, 4, 3, 2, 5, 3, np.nan,  # Next 10 items\n",
    "    4, 3, 4, 5, np.nan, 1, 3, 4, 5, np.nan   # Last 10 items\n",
    "])\n",
    "# Calculate the mean rating for each item from the existing users\n",
    "item_means = np.nanmean(ratings_matrix, axis=0)\n",
    "# Fill missing values in the new user's ratings with the corresponding item mean\n",
    "new_user_filled_ratings = np.where(np.isnan(new_user_ratings), item_means, new_user_ratings)"
   ]
  },
  {
   "cell_type": "code",
   "execution_count": 6,
   "id": "0e898330",
   "metadata": {},
   "outputs": [
    {
     "name": "stdout",
     "output_type": "stream",
     "text": [
      "Step: 0, Error: 7625.958044207806\n",
      "Step: 100, Error: 1119.2577851178269\n",
      "Step: 200, Error: 1091.5127598883266\n",
      "Step: 300, Error: 1075.7954283347199\n",
      "Step: 400, Error: 1055.734672882699\n",
      "Step: 500, Error: 1031.3872505837487\n",
      "Step: 600, Error: 1006.6471455171057\n",
      "Step: 700, Error: 985.8477155209349\n",
      "Step: 800, Error: 970.504477108758\n",
      "Step: 900, Error: 959.6638039844094\n",
      "Step: 1000, Error: 951.8066966045927\n",
      "Step: 1100, Error: 945.7646814626747\n",
      "Step: 1200, Error: 940.797918895277\n",
      "Step: 1300, Error: 936.4663595863417\n",
      "Step: 1400, Error: 932.5169191652132\n",
      "Step: 1500, Error: 928.8126169038088\n",
      "Step: 1600, Error: 925.2906962385113\n",
      "Step: 1700, Error: 921.936658357662\n",
      "Step: 1800, Error: 918.7660179013634\n",
      "Step: 1900, Error: 915.809704525469\n",
      "Step: 2000, Error: 913.1018511277964\n",
      "Step: 2100, Error: 910.6702838827948\n",
      "Step: 2200, Error: 908.530461240165\n",
      "Step: 2300, Error: 906.6831808147235\n",
      "Step: 2400, Error: 905.115583000708\n",
      "Step: 2500, Error: 903.8043439768069\n",
      "Step: 2600, Error: 902.7197552758181\n",
      "Step: 2700, Error: 901.8296124301853\n",
      "Step: 2800, Error: 901.1022728143386\n",
      "Step: 2900, Error: 900.5086724688877\n",
      "Step: 3000, Error: 900.0233880448839\n",
      "Step: 3100, Error: 899.6249713719565\n",
      "Step: 3200, Error: 899.295809066449\n",
      "Step: 3300, Error: 899.021721132426\n",
      "Step: 3400, Error: 898.7914526631175\n",
      "Step: 3500, Error: 898.596155813003\n",
      "Step: 3600, Error: 898.4289150998904\n",
      "Step: 3700, Error: 898.2843391928435\n",
      "Step: 3800, Error: 898.1582242296078\n",
      "Step: 3900, Error: 898.0472840133264\n",
      "Step: 4000, Error: 897.9489381464056\n",
      "Step: 4100, Error: 897.8611480204081\n",
      "Step: 4200, Error: 897.7822910917198\n",
      "Step: 4300, Error: 897.7110651124051\n",
      "Step: 4400, Error: 897.6464154325723\n",
      "Step: 4500, Error: 897.5874798777833\n",
      "Step: 4600, Error: 897.5335469151212\n",
      "Step: 4700, Error: 897.4840238208425\n",
      "Step: 4800, Error: 897.4384123586976\n",
      "Step: 4900, Error: 897.396290096795\n",
      "[[3.62287433 3.23565036 3.74674801 ... 2.73437371 3.36684887 3.28263459]\n",
      " [4.24913237 3.61128686 4.36221717 ... 3.24226807 3.75831116 3.4118742 ]\n",
      " [3.39826601 3.27695676 3.55686889 ... 2.51846039 3.40904716 3.65622166]\n",
      " ...\n",
      " [3.40702637 3.21403295 3.55352595 ... 2.5386393  3.34380093 3.49538152]\n",
      " [3.25562292 2.9745799  3.3786727  ... 2.44435528 3.09497595 3.10953842]\n",
      " [3.11002655 2.97854889 3.25159033 ... 2.30876877 3.09867214 3.29729788]]\n"
     ]
    }
   ],
   "source": [
    "# Define the Latent Matrix Factorization (LMF) function using ALS\n",
    "def LMF_ALS(R, K, steps=5000, alpha=0.0002, beta=0.02):\n",
    "    num_users, num_items = R.shape\n",
    "    U = np.random.rand(num_users, K)\n",
    "    V = np.random.rand(num_items, K)\n",
    "    \n",
    "    for step in range(steps):\n",
    "        for i in range(num_users):\n",
    "            for j in range(num_items):\n",
    "                if R[i, j] > 0:\n",
    "                    # Compute the prediction error\n",
    "                    eij = R[i, j] - np.dot(U[i, :], V[j, :].T)\n",
    "                    \n",
    "                    # Update U and V\n",
    "                    for k in range(K):\n",
    "                        U[i][k] = U[i][k] + alpha * (2 * eij * V[j][k] - beta * U[i][k])\n",
    "                        V[j][k] = V[j][k] + alpha * (2 * eij * U[i][k] - beta * V[j][k])\n",
    "        \n",
    "        # Compute the total error\n",
    "        error = 0\n",
    "        for i in range(num_users):\n",
    "            for j in range(num_items):\n",
    "                if R[i, j] > 0:\n",
    "                    error += pow(R[i, j] - np.dot(U[i, :], V[j, :].T), 2)\n",
    "                    for k in range(K):\n",
    "                        error += (beta / 2) * (pow(U[i][k], 2) + pow(V[j][k], 2))\n",
    "        if step % 100 == 0:\n",
    "            print(f'Step: {step}, Error: {error}')\n",
    "        if error < 0.001:\n",
    "            break\n",
    "            \n",
    "    return U, V\n",
    "\n",
    "# Apply the LMF function on the rating matrix\n",
    "K = 2  # Number of latent factors\n",
    "U, V = LMF_ALS(ratings_matrix, K)\n",
    "\n",
    "# Predict the full rating matrix\n",
    "R_pred = np.dot(U, V.T)\n",
    "print(R_pred)"
   ]
  },
  {
   "cell_type": "code",
   "execution_count": 8,
   "id": "fba1c5d9",
   "metadata": {},
   "outputs": [
    {
     "name": "stdout",
     "output_type": "stream",
     "text": [
      "Predicted Ratings for New User (ALS):\n",
      "[3.4061905  3.38044769 3.58196664 2.77720205 3.99419266 2.50358651\n",
      " 3.3079176  2.56230824 2.77477656 2.6368701  3.86376397 3.40999554\n",
      " 2.72766536 1.62175754 3.3368418  3.30393045 2.58923726 3.63888163\n",
      " 3.2793618  3.30525625 3.86412942 4.08956669 4.14483388 2.38240012\n",
      " 4.02493676 3.06218401 3.79334074 2.50595264 3.51642236 3.89340822]\n"
     ]
    }
   ],
   "source": [
    "# Solve for the new user's latent vector U_new by using the filled-in ratings\n",
    "U_new = np.linalg.lstsq(V, new_user_filled_ratings, rcond=None)[0]\n",
    "\n",
    "# Predict the new user's ratings for all items using the learned U_new\n",
    "new_user_predicted_ratings = np.dot(U_new, V.T)\n",
    "\n",
    "# Show the predicted ratings for the new user\n",
    "print(\"Predicted Ratings for New User (ALS):\")\n",
    "print(new_user_predicted_ratings)"
   ]
  },
  {
   "cell_type": "code",
   "execution_count": 10,
   "id": "19988bbf",
   "metadata": {},
   "outputs": [
    {
     "name": "stdout",
     "output_type": "stream",
     "text": [
      "Predicted Ratings Matrix:\n",
      "[[4.33535017 3.72194433 4.30475564 ... 2.36257626 3.25746769 3.22649206]\n",
      " [4.32999127 3.80017293 4.33797134 ... 2.49779872 3.44864077 3.46451914]\n",
      " [3.26576623 3.25279894 3.4516678  ... 2.528716   3.51219106 3.74269424]\n",
      " ...\n",
      " [3.86849646 3.49131779 3.92037014 ... 2.39197517 3.3077228  3.37626543]\n",
      " [3.37571776 3.19666582 3.49080956 ... 2.33758442 3.24006469 3.38470293]\n",
      " [2.95753886 2.97003599 3.13717284 ... 2.33048085 3.23783228 3.4602812 ]]\n",
      "\n",
      "Original Matrix (with missing values filled in):\n",
      "[[4.         5.         5.         ... 2.5        3.4516129  4.        ]\n",
      " [5.         1.         3.56756757 ... 2.5        3.4516129  5.        ]\n",
      " [3.         2.         5.         ... 3.         4.         3.        ]\n",
      " ...\n",
      " [4.         3.         5.         ... 2.         2.         3.        ]\n",
      " [2.         3.         3.         ... 2.5        3.         2.        ]\n",
      " [3.         2.         4.         ... 2.5        2.         5.        ]]\n"
     ]
    }
   ],
   "source": [
    "from sklearn.decomposition import NMF\n",
    "from sklearn.impute import SimpleImputer\n",
    "\n",
    "# Handle any missing values in the matrix (if 0 represents missing values, we can fill with mean)\n",
    "imputer = SimpleImputer(missing_values=0, strategy='mean')\n",
    "ratings_matrix_imputed = imputer.fit_transform(ratings_matrix)\n",
    "\n",
    "# Define the number of latent factors\n",
    "K = 2  # You can adjust this based on your needs\n",
    "\n",
    "# Apply NMF (Non-negative Matrix Factorization)\n",
    "nmf_model = NMF(n_components=K, init='random', random_state=42,max_iter=500)\n",
    "Un = nmf_model.fit_transform(ratings_matrix_imputed)  # User latent matrix\n",
    "Vn = nmf_model.components_  # Item latent matrix (transposed)\n",
    "\n",
    "# Predict the full rating matrix\n",
    "R_pred = np.dot(Un, Vn)\n",
    "\n",
    "# Show the predicted matrix\n",
    "print(\"Predicted Ratings Matrix:\")\n",
    "print(R_pred)\n",
    "\n",
    "# If you want to compare the imputed original matrix with the predicted one\n",
    "print(\"\\nOriginal Matrix (with missing values filled in):\")\n",
    "print(ratings_matrix_imputed)"
   ]
  },
  {
   "cell_type": "code",
   "execution_count": 12,
   "id": "d5078ce1",
   "metadata": {},
   "outputs": [
    {
     "name": "stdout",
     "output_type": "stream",
     "text": [
      "Predicted Ratings for New User (NMF):\n",
      "[3.43127118 3.35093162 3.59555443 3.04612875 4.23351311 2.44844587\n",
      " 3.34457783 2.50046271 2.67273208 2.31619922 3.51996748 3.04131972\n",
      " 2.71008811 1.5123246  3.53526521 3.24778354 3.38994208 3.85296581\n",
      " 3.28255943 3.23036038 3.57080368 3.84537682 3.99780359 2.47153976\n",
      " 3.74014109 3.55677292 3.61751418 2.54560058 3.53296036 3.73743729]\n"
     ]
    }
   ],
   "source": [
    "new_user_latent = np.linalg.lstsq(Vn.T, new_user_filled_ratings, rcond=None)[0]\n",
    "new_user_predicted_ratings = np.dot(new_user_latent, Vn)\n",
    "\n",
    "print(\"Predicted Ratings for New User (NMF):\")\n",
    "print(new_user_predicted_ratings)"
   ]
  },
  {
   "cell_type": "code",
   "execution_count": null,
   "id": "93295c70",
   "metadata": {},
   "outputs": [],
   "source": []
  }
 ],
 "metadata": {
  "kernelspec": {
   "display_name": "Python 3 (ipykernel)",
   "language": "python",
   "name": "python3"
  },
  "language_info": {
   "codemirror_mode": {
    "name": "ipython",
    "version": 3
   },
   "file_extension": ".py",
   "mimetype": "text/x-python",
   "name": "python",
   "nbconvert_exporter": "python",
   "pygments_lexer": "ipython3",
   "version": "3.12.2"
  }
 },
 "nbformat": 4,
 "nbformat_minor": 5
}
