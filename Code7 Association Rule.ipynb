{
 "cells": [
  {
   "cell_type": "code",
   "execution_count": 76,
   "id": "db70ce29",
   "metadata": {},
   "outputs": [],
   "source": [
    "import pandas as pd\n",
    "from mlxtend.frequent_patterns import apriori, association_rules\n",
    "\n",
    "# Load the transposed dataset from the CSV file\n",
    "df = pd.read_csv(\"food_ratings.csv\")\n",
    "df = df.astype(bool)\n",
    "\n",
    "# Applying Apriori algorithm with minimum support\n",
    "frequent_itemsets = apriori(df, min_support=0.2, use_colnames=True)\n",
    "# Generating association rules with a minimum lift\n",
    "rules = association_rules(frequent_itemsets, metric=\"confidence\", min_threshold=0.8)"
   ]
  },
  {
   "cell_type": "code",
   "execution_count": 79,
   "id": "d211ef57",
   "metadata": {},
   "outputs": [],
   "source": [
    "rules = rules[['antecedents', 'consequents', 'support', 'confidence', 'lift']]\n",
    "rules = rules[ (rules['support'] >= 0.2) &\n",
    "       (rules['confidence'] >= 0.8) &\n",
    "       (rules['lift'] >= 1.9) ]\n",
    "\n",
    "rules= rules[rules['consequents'].apply(lambda x: len(x) == 1)]\n",
    "\n",
    "rules = rules.sort_values('lift', ascending=[False])"
   ]
  },
  {
   "cell_type": "code",
   "execution_count": 80,
   "id": "b3569e29",
   "metadata": {},
   "outputs": [
    {
     "data": {
      "text/html": [
       "<div>\n",
       "<style scoped>\n",
       "    .dataframe tbody tr th:only-of-type {\n",
       "        vertical-align: middle;\n",
       "    }\n",
       "\n",
       "    .dataframe tbody tr th {\n",
       "        vertical-align: top;\n",
       "    }\n",
       "\n",
       "    .dataframe thead th {\n",
       "        text-align: right;\n",
       "    }\n",
       "</style>\n",
       "<table border=\"1\" class=\"dataframe\">\n",
       "  <thead>\n",
       "    <tr style=\"text-align: right;\">\n",
       "      <th></th>\n",
       "      <th>antecedents</th>\n",
       "      <th>consequents</th>\n",
       "      <th>support</th>\n",
       "      <th>confidence</th>\n",
       "      <th>lift</th>\n",
       "    </tr>\n",
       "  </thead>\n",
       "  <tbody>\n",
       "    <tr>\n",
       "      <th>26</th>\n",
       "      <td>(Subway, Wingstop)</td>\n",
       "      <td>(Five Guys)</td>\n",
       "      <td>0.236842</td>\n",
       "      <td>0.9</td>\n",
       "      <td>2.011765</td>\n",
       "    </tr>\n",
       "    <tr>\n",
       "      <th>91</th>\n",
       "      <td>(Subway, Chick-fil-A, Wingstop)</td>\n",
       "      <td>(Five Guys)</td>\n",
       "      <td>0.236842</td>\n",
       "      <td>0.9</td>\n",
       "      <td>2.011765</td>\n",
       "    </tr>\n",
       "    <tr>\n",
       "      <th>80</th>\n",
       "      <td>(Panera Bread, Chipotle Mexican Grill)</td>\n",
       "      <td>(Jamba Juice)</td>\n",
       "      <td>0.236842</td>\n",
       "      <td>0.9</td>\n",
       "      <td>1.900000</td>\n",
       "    </tr>\n",
       "  </tbody>\n",
       "</table>\n",
       "</div>"
      ],
      "text/plain": [
       "                               antecedents    consequents   support  \\\n",
       "26                      (Subway, Wingstop)    (Five Guys)  0.236842   \n",
       "91         (Subway, Chick-fil-A, Wingstop)    (Five Guys)  0.236842   \n",
       "80  (Panera Bread, Chipotle Mexican Grill)  (Jamba Juice)  0.236842   \n",
       "\n",
       "    confidence      lift  \n",
       "26         0.9  2.011765  \n",
       "91         0.9  2.011765  \n",
       "80         0.9  1.900000  "
      ]
     },
     "execution_count": 80,
     "metadata": {},
     "output_type": "execute_result"
    }
   ],
   "source": [
    "rules"
   ]
  },
  {
   "cell_type": "code",
   "execution_count": null,
   "id": "2c122ee7",
   "metadata": {},
   "outputs": [],
   "source": []
  },
  {
   "cell_type": "code",
   "execution_count": null,
   "id": "e7e71d1d",
   "metadata": {},
   "outputs": [],
   "source": []
  }
 ],
 "metadata": {
  "kernelspec": {
   "display_name": "Python 3 (ipykernel)",
   "language": "python",
   "name": "python3"
  },
  "language_info": {
   "codemirror_mode": {
    "name": "ipython",
    "version": 3
   },
   "file_extension": ".py",
   "mimetype": "text/x-python",
   "name": "python",
   "nbconvert_exporter": "python",
   "pygments_lexer": "ipython3",
   "version": "3.11.4"
  }
 },
 "nbformat": 4,
 "nbformat_minor": 5
}
