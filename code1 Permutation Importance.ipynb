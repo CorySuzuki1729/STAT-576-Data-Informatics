{
 "cells": [
  {
   "cell_type": "code",
   "execution_count": 1,
   "id": "71efe3f4",
   "metadata": {},
   "outputs": [],
   "source": [
    "import numpy as np\n",
    "import pandas as pd\n",
    "from sklearn.datasets import load_iris\n",
    "from sklearn.linear_model import LogisticRegression\n",
    "from sklearn.model_selection import train_test_split\n",
    "from sklearn.metrics import accuracy_score"
   ]
  },
  {
   "cell_type": "code",
   "execution_count": 2,
   "id": "f1d39c93",
   "metadata": {},
   "outputs": [],
   "source": [
    "# Load the Iris dataset\n",
    "data = load_iris()\n",
    "X = pd.DataFrame(data.data, columns=data.feature_names)\n",
    "y = data.target\n",
    "\n",
    "# Split data into training and testing sets\n",
    "X_train, X_test, y_train, y_test = train_test_split(X, y, test_size=0.2, random_state=42)"
   ]
  },
  {
   "cell_type": "code",
   "execution_count": 3,
   "id": "f95321ae",
   "metadata": {},
   "outputs": [
    {
     "name": "stdout",
     "output_type": "stream",
     "text": [
      "Baseline Accuracy: 1.0000\n"
     ]
    }
   ],
   "source": [
    "# Train a logistic regression model\n",
    "model = LogisticRegression(max_iter=200)\n",
    "model.fit(X_train, y_train)\n",
    "\n",
    "# Evaluate model performance on the test set\n",
    "baseline_accuracy = accuracy_score(y_test, model.predict(X_test))\n",
    "print(f\"Baseline Accuracy: {baseline_accuracy:.4f}\")"
   ]
  },
  {
   "cell_type": "code",
   "execution_count": 4,
   "id": "b2fa5aa1",
   "metadata": {},
   "outputs": [
    {
     "name": "stdout",
     "output_type": "stream",
     "text": [
      "\n",
      "Feature Importances (Permutation):\n",
      "sepal length (cm): 0.0200\n",
      "sepal width (cm): 0.0000\n",
      "petal length (cm): 0.6200\n",
      "petal width (cm): 0.2000\n"
     ]
    }
   ],
   "source": [
    "def permutation_importance(model, X_test, y_test, metric=accuracy_score, n_repeats=10):\n",
    "    \"\"\"\n",
    "    Compute permutation feature importance.\n",
    "    \n",
    "    Parameters:\n",
    "    - model: Trained machine learning model.\n",
    "    - X_test: Test feature dataset (pandas DataFrame).\n",
    "    - y_test: True labels for the test set.\n",
    "    - metric: Function to evaluate model performance (default is accuracy_score).\n",
    "    - n_repeats: Number of times to shuffle the feature and recompute the score.\n",
    "    \n",
    "    Returns:\n",
    "    - importance: Dictionary mapping feature names to importance scores.\n",
    "    \"\"\"\n",
    "    baseline_score = metric(y_test, model.predict(X_test))\n",
    "    importance_scores = {col: [] for col in X_test.columns}\n",
    "\n",
    "    for col in X_test.columns:\n",
    "        for _ in range(n_repeats):\n",
    "            # Shuffle the current feature\n",
    "            X_test_shuffled = X_test.copy()\n",
    "            X_test_shuffled[col] = np.random.permutation(X_test_shuffled[col])\n",
    "            \n",
    "            # Recompute the score with the shuffled feature\n",
    "            shuffled_score = metric(y_test, model.predict(X_test_shuffled))\n",
    "            \n",
    "            # Compute the drop in performance\n",
    "            importance_scores[col].append(baseline_score - shuffled_score)\n",
    "    \n",
    "    # Average the importance scores over the repetitions\n",
    "    avg_importance = {col: np.mean(importance_scores[col]) for col in X_test.columns}\n",
    "    \n",
    "    return avg_importance\n",
    "\n",
    "# Compute permutation importance\n",
    "importances = permutation_importance(model, X_test, y_test)\n",
    "\n",
    "# Display feature importances\n",
    "print(\"\\nFeature Importances (Permutation):\")\n",
    "for feature, importance in importances.items():\n",
    "    print(f\"{feature}: {importance:.4f}\")"
   ]
  },
  {
   "cell_type": "code",
   "execution_count": null,
   "id": "1744d325",
   "metadata": {},
   "outputs": [],
   "source": []
  }
 ],
 "metadata": {
  "kernelspec": {
   "display_name": "Python 3 (ipykernel)",
   "language": "python",
   "name": "python3"
  },
  "language_info": {
   "codemirror_mode": {
    "name": "ipython",
    "version": 3
   },
   "file_extension": ".py",
   "mimetype": "text/x-python",
   "name": "python",
   "nbconvert_exporter": "python",
   "pygments_lexer": "ipython3",
   "version": "3.11.4"
  }
 },
 "nbformat": 4,
 "nbformat_minor": 5
}
