{
 "cells": [
  {
   "cell_type": "code",
   "execution_count": 8,
   "id": "d51d0d7e",
   "metadata": {},
   "outputs": [],
   "source": [
    "import numpy as np\n",
    "import pandas as pd\n",
    "from sklearn.datasets import load_diabetes\n",
    "from sklearn.preprocessing import StandardScaler\n",
    "from sklearn.linear_model import Lasso\n",
    "from sklearn.ensemble import RandomForestClassifier\n",
    "from sklearn.gaussian_process import GaussianProcessClassifier\n",
    "from sklearn.gaussian_process.kernels import RBF, ConstantKernel as C\n",
    "import statsmodels.api as sm\n",
    "\n",
    "# Load Diabetes dataset\n",
    "data = load_diabetes()\n",
    "X = pd.DataFrame(data.data, columns=data.feature_names)\n",
    "y = (data.target > data.target.mean()).astype(int)  # Convert the regression target to binary for classification\n",
    "\n",
    "# Standardize features\n",
    "scaler = StandardScaler()\n",
    "X_scaled = scaler.fit_transform(X)"
   ]
  },
  {
   "cell_type": "code",
   "execution_count": 9,
   "id": "aba91cd8",
   "metadata": {},
   "outputs": [
    {
     "name": "stdout",
     "output_type": "stream",
     "text": [
      "1. Logistic Regression Feature Selection (Top 5 Features by p-value)\n",
      "Top 5 features by Logistic Regression (p-value): ['bp', 'bmi', 's5', 'sex', 's1']\n",
      "\n"
     ]
    }
   ],
   "source": [
    "# --- 1. Logistic Regression with p-values (Select Top 5) ---\n",
    "print(\"1. Logistic Regression Feature Selection (Top 5 Features by p-value)\")\n",
    "X_with_const = sm.add_constant(X_scaled)  # Add intercept term\n",
    "\n",
    "# Fit the model and calculate p-values without printing the optimization process\n",
    "log_reg_model = sm.Logit(y, X_with_const).fit(maxiter=500, method='lbfgs', disp=False)\n",
    "p_values = log_reg_model.pvalues[1:]  # Ignore the constant term\n",
    "\n",
    "# Select the top 5 features based on p-value ranking\n",
    "top_5_log_reg = np.argsort(p_values)[:5]  # Get indices of 5 smallest p-values\n",
    "selected_features_log_reg = X.columns[top_5_log_reg]\n",
    "print(f\"Top 5 features by Logistic Regression (p-value): {selected_features_log_reg.tolist()}\\n\")"
   ]
  },
  {
   "cell_type": "code",
   "execution_count": 10,
   "id": "2bd764d3",
   "metadata": {},
   "outputs": [
    {
     "name": "stdout",
     "output_type": "stream",
     "text": [
      "2. Random Forest Feature Selection (Top 5 Features by Importance)\n",
      "Top 5 features by Random Forest: ['s1', 's3', 'bp', 'bmi', 's5']\n",
      "\n"
     ]
    }
   ],
   "source": [
    "# --- 2. Random Forest (Select Top 5 Features) ---\n",
    "print(\"2. Random Forest Feature Selection (Top 5 Features by Importance)\")\n",
    "rf_model = RandomForestClassifier(random_state=42)\n",
    "rf_model.fit(X_scaled, y)\n",
    "importances_rf = rf_model.feature_importances_\n",
    "\n",
    "# Select the top 5 features based on feature importance\n",
    "top_5_rf = np.argsort(importances_rf)[-5:]  # Get indices of top 5 features\n",
    "selected_features_rf = X.columns[top_5_rf]\n",
    "print(f\"Top 5 features by Random Forest: {selected_features_rf.tolist()}\\n\")"
   ]
  },
  {
   "cell_type": "code",
   "execution_count": 11,
   "id": "9f88d2cb",
   "metadata": {},
   "outputs": [
    {
     "name": "stdout",
     "output_type": "stream",
     "text": [
      "3. Gaussian Process Feature Selection (Top 5 Features by ARD)\n",
      "Top 5 features by Gaussian Process (ARD): ['s5', 'sex', 'bp', 'bmi', 's3']\n",
      "\n"
     ]
    }
   ],
   "source": [
    "# --- 3. Gaussian Process with ARD (Increased Upper Bound for Length Scale) ---\n",
    "print(\"3. Gaussian Process Feature Selection (Top 5 Features by ARD)\")\n",
    "\n",
    "# Increase the upper bound of the length scale to 1e3\n",
    "kernel = C(1.0, (1e-2, 1e2)) * RBF(length_scale=np.ones(X_scaled.shape[1]), length_scale_bounds=(1e-2, 1e9))\n",
    "\n",
    "# Train Gaussian Process Classifier\n",
    "gp_model = GaussianProcessClassifier(kernel=kernel, random_state=42)\n",
    "gp_model.fit(X_scaled, y)\n",
    "\n",
    "# Get length scales from the RBF kernel\n",
    "fitted_kernel = gp_model.kernel_\n",
    "rbf_kernel = fitted_kernel.k2  # Access the RBF kernel\n",
    "length_scales_gp = rbf_kernel.length_scale\n",
    "\n",
    "# Select the top 5 features based on smallest length scales\n",
    "top_5_gp = np.argsort(length_scales_gp)[:5]\n",
    "selected_features_gp = X.columns[top_5_gp]\n",
    "print(f\"Top 5 features by Gaussian Process (ARD): {selected_features_gp.tolist()}\\n\")"
   ]
  },
  {
   "cell_type": "code",
   "execution_count": 12,
   "id": "03e7fa68",
   "metadata": {},
   "outputs": [
    {
     "name": "stdout",
     "output_type": "stream",
     "text": [
      "4. Lasso Regression Feature Selection (Top 5 Features by Coefficient Magnitude)\n",
      "Top 5 features by Lasso Regression: ['sex', 's3', 'bp', 'bmi', 's5']\n",
      "\n"
     ]
    }
   ],
   "source": [
    "# --- 4. Lasso Regression (Select Top 5 Features) ---\n",
    "print(\"4. Lasso Regression Feature Selection (Top 5 Features by Coefficient Magnitude)\")\n",
    "lasso_model = Lasso(alpha=0.01, random_state=42)\n",
    "lasso_model.fit(X_scaled, y)\n",
    "\n",
    "# Select the top 5 features based on coefficient magnitudes (absolute values)\n",
    "coef_lasso = np.abs(lasso_model.coef_)\n",
    "top_5_lasso = np.argsort(coef_lasso)[-5:]  # Get indices of top 5 features\n",
    "selected_features_lasso = X.columns[top_5_lasso]\n",
    "print(f\"Top 5 features by Lasso Regression: {selected_features_lasso.tolist()}\\n\")"
   ]
  },
  {
   "cell_type": "code",
   "execution_count": null,
   "id": "42cbf997",
   "metadata": {},
   "outputs": [],
   "source": []
  }
 ],
 "metadata": {
  "kernelspec": {
   "display_name": "Python 3 (ipykernel)",
   "language": "python",
   "name": "python3"
  },
  "language_info": {
   "codemirror_mode": {
    "name": "ipython",
    "version": 3
   },
   "file_extension": ".py",
   "mimetype": "text/x-python",
   "name": "python",
   "nbconvert_exporter": "python",
   "pygments_lexer": "ipython3",
   "version": "3.11.4"
  }
 },
 "nbformat": 4,
 "nbformat_minor": 5
}
